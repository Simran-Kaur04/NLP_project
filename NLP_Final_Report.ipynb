{
 "cells": [
  {
   "cell_type": "markdown",
   "id": "319c35bb",
   "metadata": {},
   "source": [
    "# Natural Language Processing\n",
    "## Final Report\n",
    "### Simran Kaur 311443"
   ]
  },
  {
   "cell_type": "markdown",
   "id": "ca200951",
   "metadata": {},
   "source": [
    "### Importing Libraries"
   ]
  },
  {
   "cell_type": "code",
   "execution_count": 4,
   "id": "0bee096e",
   "metadata": {
    "scrolled": true
   },
   "outputs": [],
   "source": [
    "import os\n",
    "from bs4 import BeautifulSoup\n",
    "import random\n",
    "from nltk.corpus import wordnet as wn\n",
    "from scipy import spatial\n",
    "import matplotlib.pyplot as plt\n",
    "import warnings\n",
    "warnings.filterwarnings(\"ignore\")"
   ]
  },
  {
   "cell_type": "markdown",
   "id": "eb94c98b",
   "metadata": {},
   "source": [
    "### Semcor3.0 dataset"
   ]
  },
  {
   "cell_type": "code",
   "execution_count": 2,
   "id": "200226bc",
   "metadata": {},
   "outputs": [],
   "source": [
    "def semcordataset():   \n",
    "    \"\"\"\n",
    "    This function reads the semcor datset and randomly collect 5000 tags from the tagfiles and return it.\n",
    "    \"\"\"\n",
    "    main_path = \"./semcor3.0/semcor3.0\"\n",
    "    list_tags = []\n",
    "    directory = os.listdir(main_path)\n",
    "    for file in directory:\n",
    "        if os.path.isdir(main_path + '/' + file):\n",
    "            ls_dir = os.listdir(main_path + '/' + file + '/tagfiles')\n",
    "            for subdir in ls_dir:\n",
    "                path = main_path + '/' + file + '/tagfiles/' + subdir\n",
    "                with open(path, 'r') as fp:\n",
    "                    soup = BeautifulSoup(fp)\n",
    "                len_sent = soup.find_all('s')[-1]['snum']     # this gives number of sentences in one tagfile\n",
    "                list_index = []\n",
    "                for i in range(15):\n",
    "                    n = random.randint(0, int(len_sent))           # random selection of 15 sentences from each of these\n",
    "                                                                                 # tagfiles\n",
    "                    while n in list_index:\n",
    "                        n = random.randint(0, int(len_sent))         # to avoid selection of same sentence again\n",
    "                    list_index.append(n)\n",
    "                for idx in list_index:\n",
    "                    list_tags.extend(soup.find_all('s', attrs = {\"snum\": idx}))\n",
    "    return list_tags"
   ]
  },
  {
   "cell_type": "code",
   "execution_count": 3,
   "id": "d57767bc",
   "metadata": {},
   "outputs": [],
   "source": [
    "data_semcor = semcordataset()"
   ]
  },
  {
   "cell_type": "markdown",
   "id": "c8ae3a2f",
   "metadata": {},
   "source": [
    "### senseval2.semcor dataset"
   ]
  },
  {
   "cell_type": "code",
   "execution_count": 82,
   "id": "ab4de63e",
   "metadata": {},
   "outputs": [],
   "source": [
    "def senseval2dataset():   \n",
    "    \"\"\"\n",
    "    This function reads the senseval2 datset and selects all tags from the tagfiles and return it.\n",
    "    \"\"\"\n",
    "    main_path = \"./senseval2.semcor/senseval2.semcor/wordnet1.7.1/\"\n",
    "    list_tags = []\n",
    "    directory = os.listdir(main_path)\n",
    "    for file in directory:\n",
    "        path = main_path + '/' + file\n",
    "        with open(path, 'r') as fp:\n",
    "            soup = BeautifulSoup(fp)\n",
    "        len_sent = soup.find_all('s')[-1]['snum']     # this gives number of sentences in one tagfile\n",
    "        for i in range(int(len_sent)):\n",
    "            list_tags.extend(soup.find_all('s', attrs = {\"snum\": i}))\n",
    "    return list_tags"
   ]
  },
  {
   "cell_type": "code",
   "execution_count": 83,
   "id": "1465ff7e",
   "metadata": {},
   "outputs": [],
   "source": [
    "data_senseval2 = senseval2dataset()"
   ]
  },
  {
   "cell_type": "markdown",
   "id": "c300a0e1",
   "metadata": {},
   "source": [
    "### senseval3.semcor dataset"
   ]
  },
  {
   "cell_type": "code",
   "execution_count": 84,
   "id": "d68b8a58",
   "metadata": {},
   "outputs": [],
   "source": [
    "def senseval3dataset():   \n",
    "    \"\"\"\n",
    "    This function reads the senseval3 datset and selects all tags from the tagfiles and return it.\n",
    "    \"\"\"\n",
    "    main_path = \"./senseval3.semcor/senseval3.semcor/wordnet1.7.1/\"\n",
    "    list_tags = []\n",
    "    directory = os.listdir(main_path)\n",
    "    for file in directory:\n",
    "        path = main_path + '/' + file\n",
    "        with open(path, 'r') as fp:\n",
    "            soup = BeautifulSoup(fp)\n",
    "        len_sent = soup.find_all('s')[-1]['snum']     # this gives number of sentences in one tagfile\n",
    "        for i in range(int(len_sent)):\n",
    "            list_tags.extend(soup.find_all('s', attrs = {\"snum\": i}))\n",
    "    return list_tags"
   ]
  },
  {
   "cell_type": "code",
   "execution_count": 85,
   "id": "1f6cb670",
   "metadata": {},
   "outputs": [],
   "source": [
    "data_senseval3 = senseval3dataset()"
   ]
  },
  {
   "cell_type": "code",
   "execution_count": 4,
   "id": "af29b07b",
   "metadata": {},
   "outputs": [],
   "source": [
    "def mapping(tag):   \n",
    "    \"\"\"\n",
    "    This function extracts the list of words from one tag at a time and returns the list of words in that sentence\n",
    "    \"\"\"\n",
    "    words = []\n",
    "    for word in tag.find_all('wf'):\n",
    "        words.append(word.string)\n",
    "    return words"
   ]
  },
  {
   "cell_type": "markdown",
   "id": "eb8578dd",
   "metadata": {},
   "source": [
    "#### The POS tagging in the datasets are different from the wordnet so a mapping is performed such that the POS tagging from the dataset maps to the one in wordnet."
   ]
  },
  {
   "cell_type": "code",
   "execution_count": 5,
   "id": "60ee9c0b",
   "metadata": {},
   "outputs": [],
   "source": [
    "wordnet_tags = {'n' : ['NN', 'NNP', 'NNPS', 'NNS', 'NP', 'NPS'],\n",
    "               'v' : ['VB', 'VBD', 'VBG', 'VBN', 'VBP', 'VBZ'],\n",
    "               'a' : ['JJ', 'JJR', 'JJS'],\n",
    "               'r' : ['RB', 'RBR', 'RBS', 'WRB']}"
   ]
  },
  {
   "cell_type": "code",
   "execution_count": 6,
   "id": "e52b4ecf",
   "metadata": {},
   "outputs": [],
   "source": [
    "def w_synsets(sent, idx):  \n",
    "    \"\"\"\n",
    "    This function takes in a sentence at a time, index of the word to return the \n",
    "    lemma, POS tag and synset number in order to compare with our prediction.\n",
    "    \"\"\"\n",
    "    tag = sent.find_all('wf')[idx]\n",
    "    if tag.has_attr(\"lemma\") and tag[\"lemma\"] != 'UNKNOWN':\n",
    "        for key, lst_pos in wordnet_tags.items():\n",
    "            if tag[\"pos\"] in lst_pos:\n",
    "                try:\n",
    "                    wnsn = tag[\"wnsn\"].split(';')[0].zfill(2)\n",
    "                    return tag[\"lemma\"] + '.' + key + '.' + wnsn\n",
    "                except:\n",
    "                    continue\n",
    "            "
   ]
  },
  {
   "cell_type": "markdown",
   "id": "0ed95c44",
   "metadata": {},
   "source": [
    "### Baselines Method "
   ]
  },
  {
   "cell_type": "code",
   "execution_count": 103,
   "id": "c281b97b",
   "metadata": {},
   "outputs": [],
   "source": [
    "def Baseline(data, method): \n",
    "    \"\"\"\n",
    "    The baseline has two methods (1) Most Common Sense and Plain Lesk\n",
    "    The input to the function is the data and a string method which tells the name of the model to use\n",
    "    The output is the accuracy on the respective method\n",
    "    \"\"\"\n",
    "    accuracy = 0\n",
    "    count = 0\n",
    "    for i, tag in enumerate(data):\n",
    "        sent = mapping(tag)   \n",
    "        # sent is the list of words in a sentence corresponding to a tag\n",
    "        for idx, word in enumerate(sent):\n",
    "            \n",
    "            if method == 'PlainLesk':\n",
    "                try:\n",
    "                    list_synsets = wn.synsets(word)\n",
    "                    max_intersection = 0\n",
    "                    if len(list_synsets) > 1:    \n",
    "                        # for ambiguous words\n",
    "                        context_words = [w for w in sent if w != word]\n",
    "                        scores = {}\n",
    "                        for syn in list_synsets:\n",
    "                            gloss = set(syn.definition().split() + ' '.join(syn.examples()).split(' '))\n",
    "                            intersect_words = gloss.intersection(set(context_words))\n",
    "                            scores[syn.name()] = len(intersect_words)\n",
    "                        pred_synset = sorted(scores, key=scores.get, reverse=True)[0]\n",
    "                        prediction = pred_synset.split('.')\n",
    "                        try:\n",
    "                            target = w_synsets(tag, idx).split('.')\n",
    "                        except:\n",
    "                            continue\n",
    "                        if target is not None:\n",
    "                            if target[1] == prediction[1] and target[2] == prediction[2]:\n",
    "                                accuracy += 1\n",
    "                            count += 1\n",
    "                except:\n",
    "                    continue\n",
    "\n",
    "            if method == 'MostCommonSense':\n",
    "                try:\n",
    "                    syn = wn.synsets(word)[0]\n",
    "                except:\n",
    "                    continue\n",
    "                target = w_synsets(tag, idx)\n",
    "                if target is not None:\n",
    "                    if syn.name() == target:\n",
    "                        accuracy += 1\n",
    "                    count += 1\n",
    "                        \n",
    "    return round((accuracy/count)*100, 2)      "
   ]
  },
  {
   "cell_type": "markdown",
   "id": "56005dc2",
   "metadata": {},
   "source": [
    "### Testing Baselines on all datasets"
   ]
  },
  {
   "cell_type": "markdown",
   "id": "bd66b4df",
   "metadata": {},
   "source": [
    "#### Plain Lesk"
   ]
  },
  {
   "cell_type": "code",
   "execution_count": 97,
   "id": "a65d1757",
   "metadata": {},
   "outputs": [
    {
     "name": "stdout",
     "output_type": "stream",
     "text": [
      "Accuracy of Plain Lesk on Semcor dataset\n"
     ]
    },
    {
     "data": {
      "text/plain": [
       "32.05"
      ]
     },
     "execution_count": 97,
     "metadata": {},
     "output_type": "execute_result"
    }
   ],
   "source": [
    "print('Accuracy of Plain Lesk on Semcor dataset')\n",
    "Baseline(data_semcor, 'PlainLesk')"
   ]
  },
  {
   "cell_type": "code",
   "execution_count": 98,
   "id": "0922b08d",
   "metadata": {},
   "outputs": [
    {
     "name": "stdout",
     "output_type": "stream",
     "text": [
      "Accuracy of Plain Lesk on Senseval2 dataset\n"
     ]
    },
    {
     "data": {
      "text/plain": [
       "30.68"
      ]
     },
     "execution_count": 98,
     "metadata": {},
     "output_type": "execute_result"
    }
   ],
   "source": [
    "print('Accuracy of Plain Lesk on Senseval2 dataset')\n",
    "Baseline(data_senseval2, 'PlainLesk')"
   ]
  },
  {
   "cell_type": "code",
   "execution_count": 104,
   "id": "5cace229",
   "metadata": {},
   "outputs": [
    {
     "name": "stdout",
     "output_type": "stream",
     "text": [
      "Accuracy of Plain Lesk on Senseval3 dataset\n"
     ]
    },
    {
     "data": {
      "text/plain": [
       "29.86"
      ]
     },
     "execution_count": 104,
     "metadata": {},
     "output_type": "execute_result"
    }
   ],
   "source": [
    "print('Accuracy of Plain Lesk on Senseval3 dataset')\n",
    "Baseline(data_senseval3, 'PlainLesk')"
   ]
  },
  {
   "cell_type": "markdown",
   "id": "fa7fadb8",
   "metadata": {},
   "source": [
    "#### Most Common Sense"
   ]
  },
  {
   "cell_type": "code",
   "execution_count": 105,
   "id": "536f0c39",
   "metadata": {},
   "outputs": [
    {
     "name": "stdout",
     "output_type": "stream",
     "text": [
      "Accuracy of Most Common Sense on Semcor dataset\n"
     ]
    },
    {
     "data": {
      "text/plain": [
       "37.8"
      ]
     },
     "execution_count": 105,
     "metadata": {},
     "output_type": "execute_result"
    }
   ],
   "source": [
    "print('Accuracy of Most Common Sense on Semcor dataset')\n",
    "Baseline(data_semcor, 'MostCommonSense')"
   ]
  },
  {
   "cell_type": "code",
   "execution_count": 106,
   "id": "51da6c16",
   "metadata": {},
   "outputs": [
    {
     "name": "stdout",
     "output_type": "stream",
     "text": [
      "Accuracy of Most Common Sense on Senseval2 dataset\n"
     ]
    },
    {
     "data": {
      "text/plain": [
       "37.26"
      ]
     },
     "execution_count": 106,
     "metadata": {},
     "output_type": "execute_result"
    }
   ],
   "source": [
    "print('Accuracy of Most Common Sense on Senseval2 dataset')\n",
    "Baseline(data_senseval2, 'MostCommonSense')"
   ]
  },
  {
   "cell_type": "code",
   "execution_count": 109,
   "id": "928d4e50",
   "metadata": {},
   "outputs": [
    {
     "name": "stdout",
     "output_type": "stream",
     "text": [
      "Accuracy of Most Common Sense on Senseval3 dataset\n"
     ]
    },
    {
     "data": {
      "text/plain": [
       "36.9"
      ]
     },
     "execution_count": 109,
     "metadata": {},
     "output_type": "execute_result"
    }
   ],
   "source": [
    "print('Accuracy of Most Common Sense on Senseval3 dataset')\n",
    "Baseline(data_senseval3, 'MostCommonSense')"
   ]
  },
  {
   "cell_type": "markdown",
   "id": "1e000719",
   "metadata": {},
   "source": [
    "### Distributional Lesk"
   ]
  },
  {
   "cell_type": "code",
   "execution_count": 7,
   "id": "225ea289",
   "metadata": {},
   "outputs": [],
   "source": [
    "# Dictionary to store lexeme embeddings\n",
    "lex_dic = {}       \n",
    "with open(\"./embeddings/lexemes.txt\", 'r') as lexemes:\n",
    "    for i, line in enumerate(lexemes):\n",
    "        if i != 0:\n",
    "            lex = line.split(' ')[0]\n",
    "            syn = lex.split('-')\n",
    "            lex_dic[str(syn[0] + '.' + syn[-1] + '.' + syn[-2])] = [float(x) for x in line.split(' ')[1:]]"
   ]
  },
  {
   "cell_type": "code",
   "execution_count": 8,
   "id": "91bc5cda",
   "metadata": {},
   "outputs": [],
   "source": [
    "def lex_embedding(lemmas, pos, offset):\n",
    "    \"\"\"\n",
    "    This function returne the lexeme embedding for a synset if it exist\n",
    "    \"\"\"\n",
    "    for lemma in lemmas:\n",
    "        syn = '.'.join([lemma, pos, offset])\n",
    "        if syn in lex_dic.keys():\n",
    "            return lex_dic[syn]\n",
    "    return None"
   ]
  },
  {
   "cell_type": "code",
   "execution_count": 9,
   "id": "ddbcd0b2",
   "metadata": {},
   "outputs": [],
   "source": [
    "def gloss_embedding(syn, embedding, stopwords = False):\n",
    "    \"\"\"\n",
    "    This function returns the gloss embedding for a synset by taking the average of embeddings of the gloss\n",
    "    of that synset\n",
    "    \"\"\"\n",
    "    glos_emb = None\n",
    "    count = 0\n",
    "    sense = set(syn.definition().strip().split(' '))\n",
    "    for hyp in syn.hyponyms():\n",
    "        sense.union(hyp.definition().strip().split(' '))\n",
    "    \n",
    "    if stopwords:\n",
    "        sense = remove_stopwords(list(sense))\n",
    "        \n",
    "    if embedding == 'gensim':\n",
    "        for w in sense:\n",
    "            try:\n",
    "                if glos_emb is None:\n",
    "                    glos_emb = embd.get_vector(w)\n",
    "                else:\n",
    "                    glos_emb = glos_emb + embd.get_vector(w)\n",
    "                count += 1\n",
    "            except:\n",
    "                continue\n",
    "                \n",
    "    if embedding == 'w2v':\n",
    "        for w in sense:\n",
    "            try:\n",
    "                if glos_emb is None:\n",
    "                    glos_emb = w2v_model.wv[w]\n",
    "                else:\n",
    "                    glos_emb = glos_emb + w2v_model.wv[w]\n",
    "                count += 1\n",
    "            except:\n",
    "                continue\n",
    "                \n",
    "    if embedding == 'trained':\n",
    "        for w in sense:\n",
    "            try:\n",
    "                if glos_emb is None:\n",
    "                    glos_emb = w2v_model_improved.wv[w]\n",
    "                else:\n",
    "                    glos_emb = glos_emb + w2v_model_improved.wv[w]\n",
    "                count += 1\n",
    "            except:\n",
    "                continue\n",
    "                \n",
    "    if embedding == 'Flair':\n",
    "        sent = list(sense)\n",
    "        sent = [x for x in sent if x != '']\n",
    "        sent = Sentence(sent)\n",
    "        stacked_embeddings.embed(sent)\n",
    "        for token in sent:\n",
    "            try:\n",
    "                if glos_emb is None:\n",
    "                    glos_emb = token.embedding.cpu().detach().numpy()\n",
    "                else:\n",
    "                    glos_emb = glos_emb + token.embedding.cpu().detach().numpy()\n",
    "                count += 1\n",
    "            except:\n",
    "                continue\n",
    "                \n",
    "    if embedding == 'SBERT':\n",
    "        sent = list(sense)\n",
    "        glos_emb = model.encode(' '.join(sent))\n",
    "        return glos_emb\n",
    "        \n",
    "    return None if glos_emb is None else [ele/count for ele in glos_emb]"
   ]
  },
  {
   "cell_type": "code",
   "execution_count": 10,
   "id": "8bd402fc",
   "metadata": {},
   "outputs": [],
   "source": [
    "def context_embedding(sentence, word, senses, embedding, stopwords = False):\n",
    "    \"\"\"\n",
    "    This function returns the context embedding of the target word by averaging over the \n",
    "    embeddings of all context words\n",
    "    \"\"\"\n",
    "    count = 0\n",
    "    cont_emb = None\n",
    "    sent = [w for w in sentence if w!= word]\n",
    "    \n",
    "    if stopwords:\n",
    "        sent = remove_stopwords(sent)\n",
    "        \n",
    "    if embedding == 'gensim':\n",
    "        for w in sent:\n",
    "            emb_word = w\n",
    "            if w in senses.keys():\n",
    "                emb_word = senses[w].name().split('.')[0]\n",
    "            try:\n",
    "                if cont_emb is None:\n",
    "                    cont_emb = embd.get_vector(emb_word)\n",
    "                else:\n",
    "                    cont_emb = cont_emb + embd.get_vector(emb_word)\n",
    "                count += 1\n",
    "            except:\n",
    "                continue\n",
    "                \n",
    "    if embedding == 'w2v':\n",
    "        for w in sent:\n",
    "            emb_word = w\n",
    "            if w in senses.keys():\n",
    "                emb_word = senses[w].name().split('.')[0]\n",
    "            try:\n",
    "                if cont_emb is None:\n",
    "                    cont_emb = w2v_model.wv[emb_word]\n",
    "                else:\n",
    "                    cont_emb = cont_emb + w2v_model.wv[emb_word]\n",
    "                count += 1\n",
    "            except:\n",
    "                continue\n",
    "                \n",
    "    if embedding == 'trained':\n",
    "        for w in sent:\n",
    "            emb_word = w\n",
    "            if w in senses.keys():\n",
    "                emb_word = senses[w].name().split('.')[0]\n",
    "            try:\n",
    "                if cont_emb is None:\n",
    "                    cont_emb = w2v_model_improved.wv[emb_word]\n",
    "                else:\n",
    "                    cont_emb = cont_emb + w2v_model_improved.wv[emb_word]\n",
    "                count += 1\n",
    "            except:\n",
    "                continue\n",
    "                \n",
    "    if embedding == 'Flair':\n",
    "        sent = [senses[w].name().split('.')[0] if w in senses.keys() else w for w in sent]\n",
    "        sent = Sentence(sent)\n",
    "        stacked_embeddings.embed(sent)\n",
    "        for token in sent:\n",
    "            try:\n",
    "                if cont_emb is None:\n",
    "                    cont_emb = token.embedding.cpu().detach().numpy()\n",
    "                else:\n",
    "                    cont_emb = cont_emb + token.embedding.cpu().detach().numpy()\n",
    "                count += 1\n",
    "            except:\n",
    "                continue\n",
    "                \n",
    "    if embedding == 'SBERT':\n",
    "        sent = [senses[w].name().split('.')[0] if w in senses.keys() else w for w in sent]\n",
    "        cont_emb = model.encode(' '.join(sent))\n",
    "        return cont_emb\n",
    "    \n",
    "    return None if cont_emb is None else [ele/count for ele in cont_emb]"
   ]
  },
  {
   "cell_type": "code",
   "execution_count": 11,
   "id": "2cd26ae8",
   "metadata": {},
   "outputs": [],
   "source": [
    "def cosine_similarity(a, b):\n",
    "    return 1 - spatial.distance.cosine(a, b)"
   ]
  },
  {
   "cell_type": "code",
   "execution_count": 12,
   "id": "d5e5d722",
   "metadata": {},
   "outputs": [],
   "source": [
    "def ground_truth(word, sent):\n",
    "    word_syn = {}\n",
    "    for i, w in enumerate(sent.find_all('wf')):\n",
    "        if w_synsets(sent, i) is not None:\n",
    "            word_syn[w.string] = w_synsets(sent, i)\n",
    "        else:\n",
    "            word_syn[w.string] = None\n",
    "    return None if word_syn[word] is None else word_syn[word]"
   ]
  },
  {
   "cell_type": "code",
   "execution_count": null,
   "id": "cf0f4a98",
   "metadata": {},
   "outputs": [],
   "source": [
    "## def distributional_lesk(data, embedding, stopwords = False):\n",
    "    accuracy = 0\n",
    "    count = 0\n",
    "    for tag in data:\n",
    "        sent = mapping(tag)\n",
    "        sense_words = {}\n",
    "        order_synsets = {}\n",
    "        try:\n",
    "            for word in sent:\n",
    "                    order_synsets[word] = len(wn.synsets(word))\n",
    "            ordered_sent = [w for w, l in sorted(order_synsets.items(), key = lambda item: item[1])]\n",
    "            for word in ordered_sent:\n",
    "                if len(wn.synsets(word)) > 1:\n",
    "                    scores = []\n",
    "                    for syn in wn.synsets(word):\n",
    "                        Gs_Cw = 0\n",
    "                        Lsw_Cw = 0\n",
    "                        l_embd = lex_embedding(syn.lemma_names(), syn.pos(), str(syn.offset()))\n",
    "                        g_embd = gloss_embedding(syn, embedding, stopwords)\n",
    "                        c_embd = context_embedding(ordered_sent, word, sense_words, embedding, stopwords)\n",
    "\n",
    "                        if embedding == 'gensim':\n",
    "                            if l_embd is not None and c_embd is not None:\n",
    "                                Lsw_Cw = cosine_similarity(l_embd, c_embd)\n",
    "\n",
    "                        if embedding == 'w2v':\n",
    "                            if l_embd is not None and c_embd is not None:\n",
    "                                Lsw_Cw = cosine_similarity(l_embd, c_embd)\n",
    "\n",
    "                        if embedding == 'trained':\n",
    "                            if l_embd is not None and c_embd is not None:\n",
    "                                Lsw_Cw = cosine_similarity(l_embd, c_embd)\n",
    "\n",
    "                        if embedding == 'Flair':\n",
    "                            cont_embd = context_embedding(ordered_sent, word, sense_words, embedding = 'gensim', stopwords = True)\n",
    "                            if l_embd is not None and cont_embd is not None:\n",
    "                                Lsw_Cw = cosine_similarity(l_embd, cont_embd)\n",
    "\n",
    "                        if embedding == 'SBERT':\n",
    "                            cont_embd = context_embedding(ordered_sent, word, sense_words, embedding = 'gensim', stopwords = True)\n",
    "                            if l_embd is not None and cont_embd is not None:\n",
    "                                Lsw_Cw = cosine_similarity(l_embd, cont_embd)\n",
    "\n",
    "                        if g_embd is not None and c_embd is not None:\n",
    "                            Gs_Cw = cosine_similarity(g_embd, c_embd)\n",
    "\n",
    "\n",
    "                        scores.append(Gs_Cw + Lsw_Cw)\n",
    "                    sense_words[word] = wn.synsets(word)[max((s,i) for i,s in enumerate(scores))[1]]\n",
    "                    prediction = sense_words[word].name().split('.')\n",
    "                    try:\n",
    "                        target = ground_truth(word, tag).split('.')\n",
    "                    except:\n",
    "                        continue\n",
    "                    if target is not None:\n",
    "                        if target[1] == prediction[1] and target[2] == prediction[2]:\n",
    "                            accuracy += 1\n",
    "                        count += 1\n",
    "\n",
    "        except:\n",
    "            continue\n",
    "\n",
    "    return round((accuracy/count)*100, 2) \n",
    "            "
   ]
  },
  {
   "cell_type": "markdown",
   "id": "24ef3487",
   "metadata": {},
   "source": [
    "#### Distributional Lesk for the Gensim Embeddings "
   ]
  },
  {
   "cell_type": "code",
   "execution_count": 14,
   "id": "154a285a",
   "metadata": {},
   "outputs": [],
   "source": [
    "import gensim.downloader\n",
    "embd = gensim.downloader.load('word2vec-google-news-300')\n",
    "embd.save('gensim_embedding.gensim')"
   ]
  },
  {
   "cell_type": "code",
   "execution_count": 121,
   "id": "d1350d1a",
   "metadata": {
    "scrolled": false
   },
   "outputs": [
    {
     "name": "stdout",
     "output_type": "stream",
     "text": [
      "Accuracy of Distributional Lesk on the Semcor dataset\n"
     ]
    },
    {
     "data": {
      "text/plain": [
       "46.42"
      ]
     },
     "execution_count": 121,
     "metadata": {},
     "output_type": "execute_result"
    }
   ],
   "source": [
    "print('Accuracy of Distributional Lesk on the Semcor dataset')\n",
    "distributional_lesk(data_semcor, 'gensim', stopwords = False)"
   ]
  },
  {
   "cell_type": "code",
   "execution_count": 119,
   "id": "38315c28",
   "metadata": {},
   "outputs": [
    {
     "name": "stdout",
     "output_type": "stream",
     "text": [
      "Accuracy of Distributional Lesk on the Senseval2 dataset\n"
     ]
    },
    {
     "data": {
      "text/plain": [
       "42.69"
      ]
     },
     "execution_count": 119,
     "metadata": {},
     "output_type": "execute_result"
    }
   ],
   "source": [
    "print('Accuracy of Distributional Lesk on the Senseval2 dataset')\n",
    "distributional_lesk(data_senseval2, 'gensim', stopwords = False)"
   ]
  },
  {
   "cell_type": "code",
   "execution_count": 125,
   "id": "2f7e845e",
   "metadata": {},
   "outputs": [
    {
     "name": "stdout",
     "output_type": "stream",
     "text": [
      "Accuracy of Distributional Lesk on the Senseval3 dataset\n"
     ]
    },
    {
     "data": {
      "text/plain": [
       "40.21"
      ]
     },
     "execution_count": 125,
     "metadata": {},
     "output_type": "execute_result"
    }
   ],
   "source": [
    "print('Accuracy of Distributional Lesk on the Senseval3 dataset')\n",
    "distributional_lesk(data_senseval3, 'gensim', stopwords = False)"
   ]
  },
  {
   "cell_type": "markdown",
   "id": "9ef2a277",
   "metadata": {},
   "source": [
    "### Extensions"
   ]
  },
  {
   "cell_type": "markdown",
   "id": "77e464cc",
   "metadata": {},
   "source": [
    "#### 1. Experiment with removing stopwords and punctuation from the dictionary glosses, sense descriptions and contexts in the occurrences of the words before measuring the distance."
   ]
  },
  {
   "cell_type": "code",
   "execution_count": 15,
   "id": "ff3869dc",
   "metadata": {},
   "outputs": [],
   "source": [
    "import nltk\n",
    "from nltk.corpus import stopwords\n",
    "stop_words = stopwords.words('english')\n",
    "stop_words.append(\"'s\")"
   ]
  },
  {
   "cell_type": "code",
   "execution_count": 16,
   "id": "651a2575",
   "metadata": {},
   "outputs": [],
   "source": [
    "import string\n",
    "punctuations = []\n",
    "for ch in string.punctuation:\n",
    "    punctuations.append(ch)"
   ]
  },
  {
   "cell_type": "code",
   "execution_count": 17,
   "id": "430aba56",
   "metadata": {},
   "outputs": [],
   "source": [
    "def remove_stopwords(sent):\n",
    "    filtered_sent = []\n",
    "    for word in sent:\n",
    "        new_word = ''\n",
    "        for ch in word:\n",
    "            if ch not in punctuations:\n",
    "                new_word += ch\n",
    "        if new_word.lower() not in stop_words:\n",
    "            filtered_sent.append(new_word)\n",
    "    return filtered_sent"
   ]
  },
  {
   "cell_type": "markdown",
   "id": "7849c67f",
   "metadata": {},
   "source": [
    "#### Distributional Lesk performance after removing stopwords using Gensim word embeddings"
   ]
  },
  {
   "cell_type": "code",
   "execution_count": 126,
   "id": "523dc9a4",
   "metadata": {},
   "outputs": [
    {
     "name": "stdout",
     "output_type": "stream",
     "text": [
      "Accuracy of Distributional Lesk on the Semcor dataset\n"
     ]
    },
    {
     "data": {
      "text/plain": [
       "46.27"
      ]
     },
     "execution_count": 126,
     "metadata": {},
     "output_type": "execute_result"
    }
   ],
   "source": [
    "print('Accuracy of Distributional Lesk on the Semcor dataset')\n",
    "distributional_lesk(data_semcor, 'gensim', stopwords = True)"
   ]
  },
  {
   "cell_type": "code",
   "execution_count": 127,
   "id": "7589e6a0",
   "metadata": {},
   "outputs": [
    {
     "name": "stdout",
     "output_type": "stream",
     "text": [
      "Accuracy of Distributional Lesk on the Senseval2 dataset\n"
     ]
    },
    {
     "data": {
      "text/plain": [
       "43.88"
      ]
     },
     "execution_count": 127,
     "metadata": {},
     "output_type": "execute_result"
    }
   ],
   "source": [
    "print('Accuracy of Distributional Lesk on the Senseval2 dataset')\n",
    "distributional_lesk(data_senseval2, 'gensim', stopwords = True)"
   ]
  },
  {
   "cell_type": "code",
   "execution_count": 128,
   "id": "11f65aea",
   "metadata": {},
   "outputs": [
    {
     "name": "stdout",
     "output_type": "stream",
     "text": [
      "Accuracy of Distributional Lesk on the Senseval3 dataset\n"
     ]
    },
    {
     "data": {
      "text/plain": [
       "40.96"
      ]
     },
     "execution_count": 128,
     "metadata": {},
     "output_type": "execute_result"
    }
   ],
   "source": [
    "print('Accuracy of Distributional Lesk on the Senseval3 dataset')\n",
    "distributional_lesk(data_senseval3, 'gensim', stopwords = True)"
   ]
  },
  {
   "cell_type": "markdown",
   "id": "660eb56a",
   "metadata": {},
   "source": [
    "#### 2. SemCor data come from the Brown corpus. The Brown corpus consists of texts from different text categories (see e.g. https://www1.essex.ac.uk/linguistics/external/clmt/w3c/corpus_ling/content/corpora/list/private/brown/brown.html). Evaluate the results for individual categories.\n"
   ]
  },
  {
   "cell_type": "code",
   "execution_count": 2,
   "id": "c35f834d",
   "metadata": {},
   "outputs": [],
   "source": [
    "categories = {}\n",
    "main_path = \"./semcor3.0/semcor3.0\"\n",
    "list_tags = []\n",
    "directory = os.listdir(main_path)\n",
    "for file in directory:\n",
    "    if os.path.isdir(main_path + '/' + file):\n",
    "        ls_dir = os.listdir(main_path + '/' + file + '/tagfiles')\n",
    "        for subdir in ls_dir:\n",
    "            path = main_path + '/' + file + '/tagfiles/' + subdir\n",
    "            with open(path, 'r') as fp:\n",
    "                soup = BeautifulSoup(fp)\n",
    "            if str(subdir)[:4] not in categories.keys():\n",
    "                categories[str(subdir)[:4]] = [soup]\n",
    "            else:\n",
    "                categories[str(subdir)[:4]].append(soup)\n",
    "cat = {'br-a':'PRESS_REPORTAGE','br-b':'PRESS_EDITORIAL', 'br-c':'PRESS_REVIEWS', 'br-d':'RELIGION', \n",
    "                'br-e':'SKILL_AND _HOBBIES', 'br-f':'POPULAR_LORE', 'br-g':'BELLES_LETTRES', 'br-h': 'MISCELLANEOUS',\n",
    "                'br-j': 'LEARNED', 'br-k':'FICTION_GENERAL','br-l':'FICTION_MYSTERY', 'br-m':'FICTION_SCIENCE',\n",
    "                'br-n':'FICTION_ADVENTURE', 'br-p':'FICTION_ROMANCE', 'br-r': 'HUMOR'}    \n",
    "Text_categories = {cat[k]: v for k, v in categories.items()}"
   ]
  },
  {
   "cell_type": "code",
   "execution_count": 7,
   "id": "983a0c48",
   "metadata": {},
   "outputs": [],
   "source": [
    "accuracy = {}\n",
    "for category in Text_categories.keys():\n",
    "    accuracy[category] = distributional_lesk(Text_categories[category], 'gensim', stopwords = True)"
   ]
  },
  {
   "cell_type": "code",
   "execution_count": 15,
   "id": "c495cfca",
   "metadata": {},
   "outputs": [
    {
     "data": {
      "image/png": "[encoded data removed]",
      "text/plain": [
       "<Figure size 1080x432 with 1 Axes>"
      ]
     },
     "metadata": {
      "needs_background": "light"
     },
     "output_type": "display_data"
    }
   ],
   "source": [
    "fig = plt.figure(figsize=(15,6))\n",
    "Categories = Text_categories.keys()\n",
    "accuracy_categories = accuracy.values()\n",
    "plt.bar(Categories,accuracy_categories)\n",
    "plt.title('Accuracy of Distributional Lesk on Brown Corpus Categories')\n",
    "plt.xlabel('Categories')\n",
    "plt.ylabel('Accuracy')\n",
    "plt.xticks(rotation=90)\n",
    "plt.show()"
   ]
  },
  {
   "cell_type": "markdown",
   "id": "960edd16",
   "metadata": {},
   "source": [
    "#### 3. Train your own word embeddings for this task, possibly initializing the embeddings with pre-trained embeddings."
   ]
  },
  {
   "cell_type": "code",
   "execution_count": 129,
   "id": "40ecad06",
   "metadata": {},
   "outputs": [],
   "source": [
    "import multiprocessing\n",
    "cores = multiprocessing.cpu_count()\n",
    "\n",
    "w2v_model = gensim.models.Word2Vec(min_count=5,\n",
    "                                   window=3,\n",
    "                                   vector_size=300,\n",
    "                                   workers=cores,\n",
    "                                   sg=1\n",
    "                                   )"
   ]
  },
  {
   "cell_type": "code",
   "execution_count": 130,
   "id": "80a4f3e7",
   "metadata": {},
   "outputs": [],
   "source": [
    "def TrainingDataset():\n",
    "    \"\"\"\n",
    "    This function takes data from Semcor, Senseval2 and Senseval3 to train Word2Vec model\n",
    "    \"\"\"\n",
    "    mergedTags = data_semcor + data_senseval2 + data_senseval3\n",
    "    sentences = []\n",
    "    for tags in mergedTags:\n",
    "        sentences.append(mapping(tags))\n",
    "    return sentences"
   ]
  },
  {
   "cell_type": "markdown",
   "id": "0297575a",
   "metadata": {},
   "source": [
    "#### Training Word2Vec"
   ]
  },
  {
   "cell_type": "code",
   "execution_count": 131,
   "id": "1f311ed2",
   "metadata": {},
   "outputs": [],
   "source": [
    "Tsentences = TrainingDataset()"
   ]
  },
  {
   "cell_type": "code",
   "execution_count": 132,
   "id": "0ca5036b",
   "metadata": {},
   "outputs": [],
   "source": [
    "w2v_model.build_vocab(Tsentences, progress_per=10000)\n",
    "w2v_model.train(Tsentences, total_examples=w2v_model.corpus_count, epochs=10, report_delay=1)\n",
    "w2v_model.init_sims(replace=True)"
   ]
  },
  {
   "cell_type": "markdown",
   "id": "e7561a7a",
   "metadata": {},
   "source": [
    "#### Distributional Lesk performance after removing stopwords using Trained word embeddings"
   ]
  },
  {
   "cell_type": "code",
   "execution_count": 133,
   "id": "cc04dedc",
   "metadata": {},
   "outputs": [
    {
     "name": "stdout",
     "output_type": "stream",
     "text": [
      "Accuracy of Distributional Lesk on the Semcor dataset\n"
     ]
    },
    {
     "data": {
      "text/plain": [
       "43.13"
      ]
     },
     "execution_count": 133,
     "metadata": {},
     "output_type": "execute_result"
    }
   ],
   "source": [
    "print('Accuracy of Distributional Lesk on the Semcor dataset')\n",
    "distributional_lesk(data_semcor, 'w2v', stopwords = True)"
   ]
  },
  {
   "cell_type": "code",
   "execution_count": 134,
   "id": "58fec777",
   "metadata": {},
   "outputs": [
    {
     "name": "stdout",
     "output_type": "stream",
     "text": [
      "Accuracy of Distributional Lesk on the Senseval2 dataset\n"
     ]
    },
    {
     "data": {
      "text/plain": [
       "36.82"
      ]
     },
     "execution_count": 134,
     "metadata": {},
     "output_type": "execute_result"
    }
   ],
   "source": [
    "print('Accuracy of Distributional Lesk on the Senseval2 dataset')\n",
    "distributional_lesk(data_senseval2, 'w2v', stopwords = True)"
   ]
  },
  {
   "cell_type": "code",
   "execution_count": 135,
   "id": "4ec08edb",
   "metadata": {},
   "outputs": [
    {
     "name": "stdout",
     "output_type": "stream",
     "text": [
      "Accuracy of Distributional Lesk on the Senseval3 dataset\n"
     ]
    },
    {
     "data": {
      "text/plain": [
       "37.11"
      ]
     },
     "execution_count": 135,
     "metadata": {},
     "output_type": "execute_result"
    }
   ],
   "source": [
    "print('Accuracy of Distributional Lesk on the Senseval3 dataset')\n",
    "distributional_lesk(data_senseval3, 'w2v', stopwords = True)"
   ]
  },
  {
   "cell_type": "markdown",
   "id": "7db9fa98",
   "metadata": {},
   "source": [
    "#### 4. Use several pre-trained embeddings or train embeddings with various parameter settings (you probably need to make big changes so you actually get significantly different results for WSD) and study the influence of the used embeddings on the disambiguation task."
   ]
  },
  {
   "cell_type": "code",
   "execution_count": 136,
   "id": "c0210b4b",
   "metadata": {},
   "outputs": [],
   "source": [
    "w2v_model_improved = gensim.models.Word2Vec(min_count=2,\n",
    "                                   window=8,\n",
    "                                   vector_size=300,\n",
    "                                   workers=cores,\n",
    "                                   sg=1\n",
    "                                   )"
   ]
  },
  {
   "cell_type": "code",
   "execution_count": 137,
   "id": "28a35bb1",
   "metadata": {},
   "outputs": [],
   "source": [
    "w2v_model_improved.build_vocab(Tsentences, progress_per=10000)\n",
    "w2v_model_improved.train(Tsentences, total_examples=w2v_model.corpus_count, epochs=10, report_delay=1)\n",
    "w2v_model_improved.init_sims(replace=True)"
   ]
  },
  {
   "cell_type": "code",
   "execution_count": 138,
   "id": "77a8776d",
   "metadata": {},
   "outputs": [
    {
     "name": "stdout",
     "output_type": "stream",
     "text": [
      "Accuracy of Distributional Lesk on the Semcor dataset\n"
     ]
    },
    {
     "data": {
      "text/plain": [
       "44.28"
      ]
     },
     "execution_count": 138,
     "metadata": {},
     "output_type": "execute_result"
    }
   ],
   "source": [
    "print('Accuracy of Distributional Lesk on the Semcor dataset')\n",
    "distributional_lesk(data_semcor, 'trained', stopwords = True)"
   ]
  },
  {
   "cell_type": "code",
   "execution_count": 139,
   "id": "50006c67",
   "metadata": {},
   "outputs": [
    {
     "name": "stdout",
     "output_type": "stream",
     "text": [
      "Accuracy of Distributional Lesk on the Senseval2 dataset\n"
     ]
    },
    {
     "data": {
      "text/plain": [
       "36.37"
      ]
     },
     "execution_count": 139,
     "metadata": {},
     "output_type": "execute_result"
    }
   ],
   "source": [
    "print('Accuracy of Distributional Lesk on the Senseval2 dataset')\n",
    "distributional_lesk(data_senseval2, 'trained', stopwords = True)"
   ]
  },
  {
   "cell_type": "code",
   "execution_count": 140,
   "id": "462d32bf",
   "metadata": {},
   "outputs": [
    {
     "name": "stdout",
     "output_type": "stream",
     "text": [
      "Accuracy of Distributional Lesk on the Senseval3 dataset\n"
     ]
    },
    {
     "data": {
      "text/plain": [
       "39.27"
      ]
     },
     "execution_count": 140,
     "metadata": {},
     "output_type": "execute_result"
    }
   ],
   "source": [
    "print('Accuracy of Distributional Lesk on the Senseval3 dataset')\n",
    "distributional_lesk(data_senseval3, 'trained', stopwords = True)"
   ]
  },
  {
   "cell_type": "markdown",
   "id": "7fde6290",
   "metadata": {},
   "source": [
    "#### 5. Extend the word embedding model to also use character-based representations, e.g. fastText or flair embeddings"
   ]
  },
  {
   "cell_type": "code",
   "execution_count": 62,
   "id": "63d2ae66",
   "metadata": {},
   "outputs": [],
   "source": [
    "from flair.embeddings import WordEmbeddings, FlairEmbeddings\n",
    "from flair.data import Sentence\n",
    "from flair.embeddings import StackedEmbeddings"
   ]
  },
  {
   "cell_type": "code",
   "execution_count": 63,
   "id": "050de2e7",
   "metadata": {},
   "outputs": [],
   "source": [
    "stacked_embeddings = StackedEmbeddings([\n",
    "                                        WordEmbeddings('./gensim_embedding.gensim'),\n",
    "                                        FlairEmbeddings('news-forward'),\n",
    "                                        FlairEmbeddings('news-backward'),\n",
    "                                       ])"
   ]
  },
  {
   "cell_type": "code",
   "execution_count": 22,
   "id": "5f419c05",
   "metadata": {},
   "outputs": [
    {
     "name": "stdout",
     "output_type": "stream",
     "text": [
      "Accuracy of Distributional Lesk on the SemCor dataset\n"
     ]
    },
    {
     "data": {
      "text/plain": [
       "47.42"
      ]
     },
     "execution_count": 22,
     "metadata": {},
     "output_type": "execute_result"
    }
   ],
   "source": [
    "print('Accuracy of Distributional Lesk on the SemCor dataset')\n",
    "distributional_lesk(data_semcor, 'Flair', stopwords = True)"
   ]
  },
  {
   "cell_type": "code",
   "execution_count": 23,
   "id": "c2bd000f",
   "metadata": {},
   "outputs": [
    {
     "name": "stdout",
     "output_type": "stream",
     "text": [
      "Accuracy of Distributional Lesk on the Senseval2 dataset\n"
     ]
    },
    {
     "data": {
      "text/plain": [
       "44.69"
      ]
     },
     "execution_count": 23,
     "metadata": {},
     "output_type": "execute_result"
    }
   ],
   "source": [
    "print('Accuracy of Distributional Lesk on the Senseval2 dataset')\n",
    "distributional_lesk(data_senseval2, 'Flair', stopwords = True)"
   ]
  },
  {
   "cell_type": "code",
   "execution_count": 24,
   "id": "19d11e74",
   "metadata": {},
   "outputs": [
    {
     "name": "stdout",
     "output_type": "stream",
     "text": [
      "Accuracy of Distributional Lesk on the Senseval3 dataset\n"
     ]
    },
    {
     "data": {
      "text/plain": [
       "41.21"
      ]
     },
     "execution_count": 24,
     "metadata": {},
     "output_type": "execute_result"
    }
   ],
   "source": [
    "print('Accuracy of Distributional Lesk on the Senseval3 dataset')\n",
    "distributional_lesk(data_senseval3, 'Flair', stopwords = True)"
   ]
  },
  {
   "cell_type": "markdown",
   "id": "2dfc70ef",
   "metadata": {},
   "source": [
    "#### 6. Use transformers and sentence embeddings to compare a sentence and a gloss. E.g. you could use the SBERT pre-trained models. Use a part of the data to fine tune the transformer and classification model."
   ]
  },
  {
   "cell_type": "code",
   "execution_count": 45,
   "id": "4d9c694d",
   "metadata": {},
   "outputs": [],
   "source": [
    "from sentence_transformers import SentenceTransformer\n",
    "model = SentenceTransformer('all-MiniLM-L6-v2')"
   ]
  },
  {
   "cell_type": "code",
   "execution_count": 21,
   "id": "574d687b",
   "metadata": {},
   "outputs": [
    {
     "name": "stdout",
     "output_type": "stream",
     "text": [
      "Accuracy of Distributional Lesk on the SemCor dataset\n"
     ]
    },
    {
     "data": {
      "text/plain": [
       "48.72"
      ]
     },
     "execution_count": 21,
     "metadata": {},
     "output_type": "execute_result"
    }
   ],
   "source": [
    "print('Accuracy of Distributional Lesk on the SemCor dataset')\n",
    "distributional_lesk(data_semcor, 'SBERT', stopwords = True)"
   ]
  },
  {
   "cell_type": "code",
   "execution_count": 25,
   "id": "69a0e607",
   "metadata": {},
   "outputs": [
    {
     "name": "stdout",
     "output_type": "stream",
     "text": [
      "Accuracy of Distributional Lesk on the Senseval2 dataset\n"
     ]
    },
    {
     "data": {
      "text/plain": [
       "45.31"
      ]
     },
     "execution_count": 25,
     "metadata": {},
     "output_type": "execute_result"
    }
   ],
   "source": [
    "print('Accuracy of Distributional Lesk on the Senseval2 dataset')\n",
    "distributional_lesk(data_senseval2, 'SBERT', stopwords = True)"
   ]
  },
  {
   "cell_type": "code",
   "execution_count": 26,
   "id": "25cbc46b",
   "metadata": {},
   "outputs": [
    {
     "name": "stdout",
     "output_type": "stream",
     "text": [
      "Accuracy of Distributional Lesk on the Senseval3 dataset\n"
     ]
    },
    {
     "data": {
      "text/plain": [
       "42.55"
      ]
     },
     "execution_count": 26,
     "metadata": {},
     "output_type": "execute_result"
    }
   ],
   "source": [
    "print('Accuracy of Distributional Lesk on the Senseval3 dataset')\n",
    "distributional_lesk(data_senseval3, 'SBERT', stopwords = True)"
   ]
  }
 ],
 "metadata": {
  "kernelspec": {
   "display_name": "Python 3 (ipykernel)",
   "language": "python",
   "name": "python3"
  },
  "language_info": {
   "codemirror_mode": {
    "name": "ipython",
    "version": 3
   },
   "file_extension": ".py",
   "mimetype": "text/x-python",
   "name": "python",
   "nbconvert_exporter": "python",
   "pygments_lexer": "ipython3",
   "version": "3.9.7"
  }
 },
 "nbformat": 4,
 "nbformat_minor": 5
}
